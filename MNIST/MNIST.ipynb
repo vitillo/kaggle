{
 "cells": [
  {
   "cell_type": "code",
   "execution_count": 29,
   "metadata": {
    "collapsed": false
   },
   "outputs": [],
   "source": [
    "require 'nn'\n",
    "require 'image'\n",
    "require 'cutorch'\n",
    "require 'cunn'\n",
    "require 'optim'\n",
    "require 'csvigo'"
   ]
  },
  {
   "cell_type": "code",
   "execution_count": 30,
   "metadata": {
    "collapsed": false,
    "scrolled": true
   },
   "outputs": [
    {
     "data": {
      "text/plain": [
       "\n"
      ]
     },
     "execution_count": 30,
     "metadata": {},
     "output_type": "execute_result"
    }
   ],
   "source": [
    "torch.setdefaulttensortype('torch.FloatTensor')"
   ]
  },
  {
   "cell_type": "markdown",
   "metadata": {},
   "source": [
    "Prepare data:"
   ]
  },
  {
   "cell_type": "code",
   "execution_count": 9,
   "metadata": {
    "collapsed": false,
    "scrolled": false
   },
   "outputs": [
    {
     "data": {
      "text/plain": [
       "<csv>\tparsing file: /Users/vitillo/Downloads/train.csv\t\n"
      ]
     },
     "execution_count": 9,
     "metadata": {},
     "output_type": "execute_result"
    },
    {
     "data": {
      "text/plain": [
       "<csv>\tparsing done\t\n"
      ]
     },
     "execution_count": 9,
     "metadata": {},
     "output_type": "execute_result"
    },
    {
     "data": {
      "text/plain": [
       "<csv>\tparsing file: /Users/vitillo/Downloads/test.csv\t\n"
      ]
     },
     "execution_count": 9,
     "metadata": {},
     "output_type": "execute_result"
    },
    {
     "data": {
      "text/plain": [
       "<csv>\tparsing done\t\n"
      ]
     },
     "execution_count": 9,
     "metadata": {},
     "output_type": "execute_result"
    }
   ],
   "source": [
    "function load_train_dataset(path)\n",
    "    local raw_data = csvigo.load{path = path, mode = 'raw'} \n",
    "    local loaded_data = {}\n",
    "    \n",
    "    local data = torch.Tensor(#raw_data - 1, #raw_data[1])\n",
    "    \n",
    "    for i = 2, #raw_data do\n",
    "        data[i - 1] = torch.Tensor(raw_data[i])\n",
    "    end\n",
    "    \n",
    "    local labels = data[{{}, 1}]\n",
    "    labels[torch.eq(labels, 0)] = 10\n",
    "    local predictors = normalize(data[{{}, {2, -1}}])\n",
    "    \n",
    "    return {labels=labels,\n",
    "            predictors=predictors,\n",
    "            size=function() return (#labels)[1] end}\n",
    "end\n",
    "\n",
    "function load_test_dataset(path, train_data)\n",
    "    local raw_data = csvigo.load{path = path, mode = 'raw'} \n",
    "    local loaded_data = {}\n",
    "    \n",
    "    local data = torch.Tensor(#raw_data - 1, #raw_data[1])\n",
    "    \n",
    "    for i = 2, #raw_data do\n",
    "        data[i - 1] = torch.Tensor(raw_data[i])\n",
    "    end\n",
    "    \n",
    "    mean = train_data.predictors:mean()\n",
    "    std = train_data.predictors:std()\n",
    "    local predictors = normalize(data, mean, std)\n",
    "    \n",
    "    return {predictors=predictors,\n",
    "            size=function() return (#labels)[1] end}\n",
    "end\n",
    "\n",
    "function normalize(data, mean, std)\n",
    "    local mean = mean or data:mean()\n",
    "    local std = std or data:std()\n",
    "    return (data - mean)/std\n",
    "end\n",
    "\n",
    "train_data = load_train_dataset('~/Downloads/train.csv')\n",
    "test_data = load_test_dataset('~/Downloads/test.csv', train_data)"
   ]
  },
  {
   "cell_type": "markdown",
   "metadata": {},
   "source": [
    "Setup model:"
   ]
  },
  {
   "cell_type": "code",
   "execution_count": 10,
   "metadata": {
    "collapsed": false
   },
   "outputs": [],
   "source": [
    "function setup_model(use_cuda)\n",
    "    local model = nn.Sequential()\n",
    "    model:add(nn.View(1, 28, 28))\n",
    "    model:add(nn.SpatialConvolutionMM(1, 8, 5, 5, 1, 1, 2))\n",
    "    model:add(nn.ReLU())\n",
    "    model:add(nn.SpatialMaxPooling(2,2,2,2))\n",
    "    \n",
    "    model:add(nn.SpatialConvolutionMM(8, 16, 5, 5, 1, 1, 2))\n",
    "    model:add(nn.ReLU())\n",
    "    model:add(nn.SpatialMaxPooling(3,3,3,3))\n",
    "    \n",
    "    model:add(nn.View(16*4*4))\n",
    "    model:add(nn.Linear(16*4*4, 10))\n",
    "    model:add(nn.LogSoftMax())\n",
    "\n",
    "    local criterion = nn.ClassNLLCriterion()\n",
    "    if use_cuda then\n",
    "        model:cuda()\n",
    "        criterion:cuda()\n",
    "    end\n",
    "    return model, criterion\n",
    "end\n",
    "\n",
    "model, criterion = setup_model(false)"
   ]
  },
  {
   "cell_type": "code",
   "execution_count": 13,
   "metadata": {
    "collapsed": false
   },
   "outputs": [],
   "source": [
    "model = torch.load(\"mnist_model\")  -- load pre-trained model if available"
   ]
  },
  {
   "cell_type": "markdown",
   "metadata": {},
   "source": [
    "Train!"
   ]
  },
  {
   "cell_type": "code",
   "execution_count": 31,
   "metadata": {
    "collapsed": false
   },
   "outputs": [],
   "source": [
    "classes = {'1','2','3','4','5','6','7','8','9','0'}\n",
    "\n",
    "function minibatch(train_data, shuffle, t, batchSize)\n",
    "    local inputs = {}\n",
    "    local targets = {}\n",
    "    \n",
    "    for i = t,math.min(t + batchSize - 1, train_data:size()) do\n",
    "        local input = train_data.predictors[shuffle[i]]\n",
    "        if useCuda then input = input:cuda() end\n",
    "        local target = train_data.labels[shuffle[i]]\n",
    "        table.insert(inputs, input)\n",
    "        table.insert(targets, target)\n",
    "    end\n",
    "    \n",
    "    return inputs, targets\n",
    "end\n",
    "function train_epoch(train)\n",
    "    epoch = epoch or 1\n",
    "    \n",
    "    local time = sys.clock()\n",
    "    local shuffle = torch.randperm(train:size())\n",
    "    local parameters, gradParameters = model:getParameters()\n",
    "    local confusion = optim.ConfusionMatrix(classes)\n",
    "    \n",
    "    local batchSize = 25\n",
    "    local optimState = {\n",
    "        learningRate = 1e-2,\n",
    "        weightDecay = 0.001,\n",
    "        momentum = 0.9,\n",
    "        learningRateDecay = 1e-7\n",
    "    }\n",
    "    \n",
    "    print(\"==> online epoch # \" .. epoch .. ' [batchSize = ' .. batchSize .. ']')\n",
    "    \n",
    "    for t = 1,train:size(),batchSize do\n",
    "        inputs, targets = minibatch(train, shuffle, t, batchSize)\n",
    "        \n",
    "        local feval = function(x)\n",
    "            -- get new parameters\n",
    "            if x~= parameters then\n",
    "                parameters:copy(x)\n",
    "            end\n",
    "            \n",
    "            -- reset gradients\n",
    "            gradParameters:zero()\n",
    "            \n",
    "            -- f is the average of all criterions\n",
    "            local f = 0\n",
    "            \n",
    "            -- evaluate function for complete mini batch\n",
    "            for i = 1,#inputs do\n",
    "               -- estimate f\n",
    "                local output = model:forward(inputs[i])\n",
    "                local err = criterion:forward(output, targets[i])\n",
    "                f = f + err\n",
    "                \n",
    "                -- estimate df/dW\n",
    "                local df_do = criterion:backward(output, targets[i])\n",
    "                model:backward(inputs[i], df_do)\n",
    "                                \n",
    "                -- update confusion\n",
    "                confusion:add(output, targets[i])\n",
    "            end\n",
    "            \n",
    "            -- normalize gradients and f(X)\n",
    "            gradParameters:div(#inputs)\n",
    "            f = f/#inputs\n",
    "            \n",
    "            -- return f and df/dW\n",
    "            return f,gradParameters\n",
    "        end\n",
    "        \n",
    "        optim.sgd(feval, parameters, optimState)\n",
    "    end\n",
    "    \n",
    "    -- time taken\n",
    "    time = sys.clock() - time\n",
    "    time = time / train:size()\n",
    "    print(\"==> time to learn 1 sample = \" .. (time*1000) .. ' ms')\n",
    "    \n",
    "    confusion:updateValids()\n",
    "    print(\"==> average row correct: \" .. 100*confusion.averageValid)\n",
    "    confusion:zero()\n",
    "    \n",
    "    epoch = epoch + 1\n",
    "end"
   ]
  },
  {
   "cell_type": "code",
   "execution_count": 32,
   "metadata": {
    "collapsed": false,
    "scrolled": false
   },
   "outputs": [
    {
     "data": {
      "text/plain": [
       "==> online epoch # 1 [batchSize = 25]\t\n"
      ]
     },
     "execution_count": 32,
     "metadata": {},
     "output_type": "execute_result"
    },
    {
     "data": {
      "text/plain": [
       "==> time to learn 1 sample = 0.69993802479335 ms\t\n",
       "==> average row correct: 99.317809343338\t\n"
      ]
     },
     "execution_count": 32,
     "metadata": {},
     "output_type": "execute_result"
    },
    {
     "data": {
      "text/plain": [
       "==> online epoch # 2 [batchSize = 25]\t\n"
      ]
     },
     "execution_count": 32,
     "metadata": {},
     "output_type": "execute_result"
    },
    {
     "data": {
      "text/plain": [
       "==> time to learn 1 sample = 0.69234964393434 ms\t\n",
       "==> average row correct: 99.273147583008\t\n"
      ]
     },
     "execution_count": 32,
     "metadata": {},
     "output_type": "execute_result"
    },
    {
     "data": {
      "text/plain": [
       "==> online epoch # 3 [batchSize = 25]\t\n"
      ]
     },
     "execution_count": 32,
     "metadata": {},
     "output_type": "execute_result"
    },
    {
     "data": {
      "text/plain": [
       "==> time to learn 1 sample = 0.69453826404753 ms\t\n",
       "==> average row correct: 99.358031749725\t\n"
      ]
     },
     "execution_count": 32,
     "metadata": {},
     "output_type": "execute_result"
    },
    {
     "data": {
      "text/plain": [
       "==> online epoch # 4 [batchSize = 25]\t\n"
      ]
     },
     "execution_count": 32,
     "metadata": {},
     "output_type": "execute_result"
    },
    {
     "data": {
      "text/plain": [
       "==> time to learn 1 sample = 0.6919089498974 ms\t\n"
      ]
     },
     "execution_count": 32,
     "metadata": {},
     "output_type": "execute_result"
    },
    {
     "data": {
      "text/plain": [
       "==> average row correct: 99.380862116814\t\n"
      ]
     },
     "execution_count": 32,
     "metadata": {},
     "output_type": "execute_result"
    },
    {
     "data": {
      "text/plain": [
       "==> online epoch # 5 [batchSize = 25]\t\n"
      ]
     },
     "execution_count": 32,
     "metadata": {},
     "output_type": "execute_result"
    },
    {
     "data": {
      "text/plain": [
       "==> time to learn 1 sample = 0.6865386679059 ms\t\n",
       "==> average row correct: 99.387073516846\t\n"
      ]
     },
     "execution_count": 32,
     "metadata": {},
     "output_type": "execute_result"
    },
    {
     "data": {
      "text/plain": [
       "==> online epoch # 6 [batchSize = 25]\t\n"
      ]
     },
     "execution_count": 32,
     "metadata": {},
     "output_type": "execute_result"
    },
    {
     "data": {
      "text/plain": [
       "==> time to learn 1 sample = 0.68470028468541 ms\t\n",
       "==> average row correct: 99.36172246933\t\n"
      ]
     },
     "execution_count": 32,
     "metadata": {},
     "output_type": "execute_result"
    },
    {
     "data": {
      "text/plain": [
       "==> online epoch # 7 [batchSize = 25]\t\n"
      ]
     },
     "execution_count": 32,
     "metadata": {},
     "output_type": "execute_result"
    },
    {
     "data": {
      "text/plain": [
       "==> time to learn 1 sample = 0.68103707404364 ms\t\n",
       "==> average row correct: 99.394195079803\t\n"
      ]
     },
     "execution_count": 32,
     "metadata": {},
     "output_type": "execute_result"
    },
    {
     "data": {
      "text/plain": [
       "==> online epoch # 8 [batchSize = 25]\t\n"
      ]
     },
     "execution_count": 32,
     "metadata": {},
     "output_type": "execute_result"
    },
    {
     "data": {
      "text/plain": [
       "==> time to learn 1 sample = 0.68137807505471 ms\t\n",
       "==> average row correct: 99.443085193634\t\n"
      ]
     },
     "execution_count": 32,
     "metadata": {},
     "output_type": "execute_result"
    },
    {
     "data": {
      "text/plain": [
       "==> online epoch # 9 [batchSize = 25]\t\n"
      ]
     },
     "execution_count": 32,
     "metadata": {},
     "output_type": "execute_result"
    },
    {
     "data": {
      "text/plain": [
       "==> time to learn 1 sample = 0.69025640828269 ms\t\n",
       "==> average row correct: 99.412466883659\t\n"
      ]
     },
     "execution_count": 32,
     "metadata": {},
     "output_type": "execute_result"
    },
    {
     "data": {
      "text/plain": [
       "==> online epoch # 10 [batchSize = 25]\t\n"
      ]
     },
     "execution_count": 32,
     "metadata": {},
     "output_type": "execute_result"
    },
    {
     "data": {
      "text/plain": [
       "==> time to learn 1 sample = 0.69083471525283 ms\t\n",
       "==> average row correct: 99.45777118206\t\n"
      ]
     },
     "execution_count": 32,
     "metadata": {},
     "output_type": "execute_result"
    },
    {
     "data": {
      "text/plain": [
       "==> online epoch # 11 [batchSize = 25]\t\n"
      ]
     },
     "execution_count": 32,
     "metadata": {},
     "output_type": "execute_result"
    },
    {
     "data": {
      "text/plain": [
       "==> time to learn 1 sample = 0.68706343287513 ms\t\n"
      ]
     },
     "execution_count": 32,
     "metadata": {},
     "output_type": "execute_result"
    },
    {
     "data": {
      "text/plain": [
       "==> average row correct: 99.468392729759\t\n"
      ]
     },
     "execution_count": 32,
     "metadata": {},
     "output_type": "execute_result"
    },
    {
     "data": {
      "text/plain": [
       "==> online epoch # 12 [batchSize = 25]\t\n"
      ]
     },
     "execution_count": 32,
     "metadata": {},
     "output_type": "execute_result"
    },
    {
     "data": {
      "text/plain": [
       "==> time to learn 1 sample = 0.6895212389174 ms\t\n",
       "==> average row correct: 99.506705999374\t\n"
      ]
     },
     "execution_count": 32,
     "metadata": {},
     "output_type": "execute_result"
    },
    {
     "data": {
      "text/plain": [
       "==> online epoch # 13 [batchSize = 25]\t\n"
      ]
     },
     "execution_count": 32,
     "metadata": {},
     "output_type": "execute_result"
    },
    {
     "data": {
      "text/plain": [
       "==> time to learn 1 sample = 0.68250135580699 ms\t\n",
       "==> average row correct: 99.505968689919\t\n"
      ]
     },
     "execution_count": 32,
     "metadata": {},
     "output_type": "execute_result"
    },
    {
     "data": {
      "text/plain": [
       "==> online epoch # 14 [batchSize = 25]\t\n"
      ]
     },
     "execution_count": 32,
     "metadata": {},
     "output_type": "execute_result"
    },
    {
     "data": {
      "text/plain": [
       "==> time to learn 1 sample = 0.69503411792573 ms\t\n",
       "==> average row correct: 99.563407301903\t\n"
      ]
     },
     "execution_count": 32,
     "metadata": {},
     "output_type": "execute_result"
    },
    {
     "data": {
      "text/plain": [
       "==> online epoch # 15 [batchSize = 25]\t\n"
      ]
     },
     "execution_count": 32,
     "metadata": {},
     "output_type": "execute_result"
    },
    {
     "data": {
      "text/plain": [
       "==> time to learn 1 sample = 0.70589340300787 ms\t\n",
       "==> average row correct: 99.498865604401\t\n"
      ]
     },
     "execution_count": 32,
     "metadata": {},
     "output_type": "execute_result"
    },
    {
     "data": {
      "text/plain": [
       "==> online epoch # 16 [batchSize = 25]\t\n"
      ]
     },
     "execution_count": 32,
     "metadata": {},
     "output_type": "execute_result"
    },
    {
     "data": {
      "text/plain": [
       "==> time to learn 1 sample = 0.6864667847043 ms\t\n"
      ]
     },
     "execution_count": 32,
     "metadata": {},
     "output_type": "execute_result"
    },
    {
     "data": {
      "text/plain": [
       "==> average row correct: 99.54827606678\t\n"
      ]
     },
     "execution_count": 32,
     "metadata": {},
     "output_type": "execute_result"
    },
    {
     "data": {
      "text/plain": [
       "==> online epoch # 17 [batchSize = 25]\t\n"
      ]
     },
     "execution_count": 32,
     "metadata": {},
     "output_type": "execute_result"
    },
    {
     "data": {
      "text/plain": [
       "==> time to learn 1 sample = 0.68727793012347 ms\t\n",
       "==> average row correct: 99.463312029839\t\n"
      ]
     },
     "execution_count": 32,
     "metadata": {},
     "output_type": "execute_result"
    },
    {
     "data": {
      "text/plain": [
       "==> online epoch # 18 [batchSize = 25]\t\n"
      ]
     },
     "execution_count": 32,
     "metadata": {},
     "output_type": "execute_result"
    },
    {
     "data": {
      "text/plain": [
       "==> time to learn 1 sample = 0.69235971428099 ms\t\n",
       "==> average row correct: 99.563852548599\t\n"
      ]
     },
     "execution_count": 32,
     "metadata": {},
     "output_type": "execute_result"
    },
    {
     "data": {
      "text/plain": [
       "==> online epoch # 19 [batchSize = 25]\t\n"
      ]
     },
     "execution_count": 32,
     "metadata": {},
     "output_type": "execute_result"
    },
    {
     "data": {
      "text/plain": [
       "==> time to learn 1 sample = 0.68873650119418 ms\t\n",
       "==> average row correct: 99.528200030327\t\n"
      ]
     },
     "execution_count": 32,
     "metadata": {},
     "output_type": "execute_result"
    },
    {
     "data": {
      "text/plain": [
       "==> online epoch # 20 [batchSize = 25]\t\n"
      ]
     },
     "execution_count": 32,
     "metadata": {},
     "output_type": "execute_result"
    },
    {
     "data": {
      "text/plain": [
       "==> time to learn 1 sample = 0.69373460043044 ms\t\n",
       "==> average row correct: 99.516069293022\t\n"
      ]
     },
     "execution_count": 32,
     "metadata": {},
     "output_type": "execute_result"
    },
    {
     "data": {
      "text/plain": [
       "==> online epoch # 21 [batchSize = 25]\t\n"
      ]
     },
     "execution_count": 32,
     "metadata": {},
     "output_type": "execute_result"
    },
    {
     "data": {
      "text/plain": [
       "==> time to learn 1 sample = 0.68445726235708 ms\t\n",
       "==> average row correct: 99.559218287468\t\n"
      ]
     },
     "execution_count": 32,
     "metadata": {},
     "output_type": "execute_result"
    },
    {
     "data": {
      "text/plain": [
       "==> online epoch # 22 [batchSize = 25]\t\n"
      ]
     },
     "execution_count": 32,
     "metadata": {},
     "output_type": "execute_result"
    },
    {
     "data": {
      "text/plain": [
       "==> time to learn 1 sample = 0.69092528592973 ms\t\n",
       "==> average row correct: 99.577621817589\t\n"
      ]
     },
     "execution_count": 32,
     "metadata": {},
     "output_type": "execute_result"
    },
    {
     "data": {
      "text/plain": [
       "==> online epoch # 23 [batchSize = 25]\t\n"
      ]
     },
     "execution_count": 32,
     "metadata": {},
     "output_type": "execute_result"
    },
    {
     "data": {
      "text/plain": [
       "==> time to learn 1 sample = 0.68878504775819 ms\t\n"
      ]
     },
     "execution_count": 32,
     "metadata": {},
     "output_type": "execute_result"
    },
    {
     "data": {
      "text/plain": [
       "==> average row correct: 99.578521847725\t\n"
      ]
     },
     "execution_count": 32,
     "metadata": {},
     "output_type": "execute_result"
    },
    {
     "data": {
      "text/plain": [
       "==> online epoch # 24 [batchSize = 25]\t\n"
      ]
     },
     "execution_count": 32,
     "metadata": {},
     "output_type": "execute_result"
    },
    {
     "data": {
      "text/plain": [
       "==> time to learn 1 sample = 0.69230171044668 ms\t\n"
      ]
     },
     "execution_count": 32,
     "metadata": {},
     "output_type": "execute_result"
    },
    {
     "data": {
      "text/plain": [
       "==> average row correct: 99.616076350212\t\n"
      ]
     },
     "execution_count": 32,
     "metadata": {},
     "output_type": "execute_result"
    },
    {
     "data": {
      "text/plain": [
       "==> online epoch # 25 [batchSize = 25]\t\n"
      ]
     },
     "execution_count": 32,
     "metadata": {},
     "output_type": "execute_result"
    },
    {
     "data": {
      "text/plain": [
       "==> time to learn 1 sample = 0.69467242558797 ms\t\n",
       "==> average row correct: 99.605869054794\t\n"
      ]
     },
     "execution_count": 32,
     "metadata": {},
     "output_type": "execute_result"
    }
   ],
   "source": [
    "for i=1,25 do\n",
    "    train_epoch(train_data)\n",
    "end"
   ]
  },
  {
   "cell_type": "markdown",
   "metadata": {},
   "source": [
    "Test model:"
   ]
  },
  {
   "cell_type": "code",
   "execution_count": 7,
   "metadata": {
    "collapsed": false,
    "scrolled": true
   },
   "outputs": [
    {
     "data": {
      "text/plain": [
       "\n"
      ]
     },
     "execution_count": 7,
     "metadata": {},
     "output_type": "execute_result"
    }
   ],
   "source": [
    "torch.save(\"mnist_model\", model)"
   ]
  },
  {
   "cell_type": "code",
   "execution_count": 33,
   "metadata": {
    "collapsed": false
   },
   "outputs": [],
   "source": [
    "function max_tensor_index(tensor)\n",
    "    local max_index = 1\n",
    "    for i=1, tensor:size()[1] do\n",
    "        if tensor[i] > tensor[max_index] then\n",
    "            max_index = i\n",
    "        end\n",
    "    end\n",
    "    \n",
    "    if max_index == 10 then\n",
    "        return 0\n",
    "    else\n",
    "        return max_index\n",
    "    end\n",
    "end\n",
    "\n",
    "function test_model(test_data)\n",
    "    result = {}\n",
    "    \n",
    "    for i = 1,test_data.predictors:size()[1] do\n",
    "        local output = max_tensor_index(model:forward(test_data.predictors[i]))\n",
    "        table.insert(result, output)\n",
    "    end\n",
    "    \n",
    "    return result\n",
    "end\n",
    "\n",
    "\n",
    "result = test_model(test_data)"
   ]
  },
  {
   "cell_type": "code",
   "execution_count": 34,
   "metadata": {
    "collapsed": false
   },
   "outputs": [],
   "source": [
    "function write_result(path, result)\n",
    "    file = io.open(path, 'w')\n",
    "    file:write(\"ImageId,Label\\n\")\n",
    "    \n",
    "    for i = 1, #result do\n",
    "        file:write(i .. ',' .. result[i] .. '\\n')\n",
    "    end\n",
    "    file:close()\n",
    "end\n",
    "\n",
    "write_result('result.csv', result)"
   ]
  },
  {
   "cell_type": "code",
   "execution_count": null,
   "metadata": {
    "collapsed": true
   },
   "outputs": [],
   "source": []
  }
 ],
 "metadata": {
  "kernelspec": {
   "display_name": "iTorch",
   "language": "lua",
   "name": "itorch"
  },
  "language_info": {
   "name": "lua",
   "version": "20100"
  }
 },
 "nbformat": 4,
 "nbformat_minor": 0
}
